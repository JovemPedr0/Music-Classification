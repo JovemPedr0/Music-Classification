{
 "cells": [
  {
   "cell_type": "code",
   "execution_count": 1,
   "metadata": {},
   "outputs": [],
   "source": [
    "import os\n",
    "import tqdm\n",
    "import numpy as np \n",
    "import pandas as pd \n",
    "import matplotlib.pyplot as plt \n",
    "import librosa.display\n",
    "import seaborn as sns \n",
    "import catboost as cb \n",
    "\n",
    "from feature_extraction import *\n",
    "\n",
    "from sklearn.metrics import accuracy_score, confusion_matrix\n",
    "from sklearn.neighbors import KNeighborsClassifier \n",
    "from sklearn.tree import DecisionTreeClassifier \n",
    "from sklearn.ensemble import RandomForestClassifier \n",
    "from sklearn.linear_model import LogisticRegression \n",
    "\n",
    "from xgboost import XGBClassifier \n",
    "from sklearn import preprocessing \n",
    "from sklearn.model_selection import train_test_split "
   ]
  },
  {
   "cell_type": "markdown",
   "metadata": {},
   "source": [
    "## ADQUIRE DATASET"
   ]
  },
  {
   "cell_type": "code",
   "execution_count": 2,
   "metadata": {},
   "outputs": [],
   "source": [
    "genre_directory = './data/genres_original'\n",
    "genre_label = {}\n",
    "label_value = 0"
   ]
  },
  {
   "cell_type": "code",
   "execution_count": 3,
   "metadata": {},
   "outputs": [
    {
     "name": "stdout",
     "output_type": "stream",
     "text": [
      "Processing folder blues\n"
     ]
    },
    {
     "name": "stderr",
     "output_type": "stream",
     "text": [
      "100%|██████████| 100/100 [03:28<00:00,  2.09s/it]\n"
     ]
    },
    {
     "name": "stdout",
     "output_type": "stream",
     "text": [
      "Processing folder classical\n"
     ]
    },
    {
     "name": "stderr",
     "output_type": "stream",
     "text": [
      "100%|██████████| 100/100 [03:30<00:00,  2.11s/it]\n"
     ]
    },
    {
     "name": "stdout",
     "output_type": "stream",
     "text": [
      "Processing folder country\n"
     ]
    },
    {
     "name": "stderr",
     "output_type": "stream",
     "text": [
      "100%|██████████| 100/100 [03:30<00:00,  2.11s/it]\n"
     ]
    },
    {
     "name": "stdout",
     "output_type": "stream",
     "text": [
      "Processing folder disco\n"
     ]
    },
    {
     "name": "stderr",
     "output_type": "stream",
     "text": [
      "100%|██████████| 100/100 [03:30<00:00,  2.11s/it]\n"
     ]
    },
    {
     "name": "stdout",
     "output_type": "stream",
     "text": [
      "Processing folder hiphop\n"
     ]
    },
    {
     "name": "stderr",
     "output_type": "stream",
     "text": [
      "100%|██████████| 100/100 [03:30<00:00,  2.11s/it]\n"
     ]
    },
    {
     "name": "stdout",
     "output_type": "stream",
     "text": [
      "Processing folder jazz\n"
     ]
    },
    {
     "name": "stderr",
     "output_type": "stream",
     "text": [
      " 54%|█████▍    | 54/100 [01:54<01:36,  2.10s/it]c:\\Users\\pedro.mira\\AppData\\Local\\miniconda3\\envs\\felipe_cd\\lib\\site-packages\\librosa\\util\\decorators.py:88: UserWarning: PySoundFile failed. Trying audioread instead.\n",
      "  return f(*args, **kwargs)\n",
      "100%|██████████| 100/100 [03:30<00:00,  2.11s/it]\n"
     ]
    },
    {
     "name": "stdout",
     "output_type": "stream",
     "text": [
      "Processing folder metal\n"
     ]
    },
    {
     "name": "stderr",
     "output_type": "stream",
     "text": [
      "100%|██████████| 100/100 [03:32<00:00,  2.13s/it]\n"
     ]
    },
    {
     "name": "stdout",
     "output_type": "stream",
     "text": [
      "Processing folder pop\n"
     ]
    },
    {
     "name": "stderr",
     "output_type": "stream",
     "text": [
      "100%|██████████| 100/100 [03:35<00:00,  2.16s/it]\n"
     ]
    },
    {
     "name": "stdout",
     "output_type": "stream",
     "text": [
      "Processing folder reggae\n"
     ]
    },
    {
     "name": "stderr",
     "output_type": "stream",
     "text": [
      "100%|██████████| 100/100 [03:37<00:00,  2.17s/it]\n"
     ]
    },
    {
     "name": "stdout",
     "output_type": "stream",
     "text": [
      "Processing folder rock\n"
     ]
    },
    {
     "name": "stderr",
     "output_type": "stream",
     "text": [
      "100%|██████████| 100/100 [03:37<00:00,  2.18s/it]"
     ]
    },
    {
     "name": "stdout",
     "output_type": "stream",
     "text": [
      "Done!\n"
     ]
    },
    {
     "name": "stderr",
     "output_type": "stream",
     "text": [
      "\n"
     ]
    }
   ],
   "source": [
    "'''\n",
    "@description: Assigning the folder string as label value\n",
    "'''\n",
    "for folder in os.listdir(genre_directory):\n",
    "\tgenre_label[folder] = label_value\n",
    "\tlabel_value += 1\n",
    "\n",
    "genre_label = {'blues': 0, 'classical': 1, 'country': 2, 'disco': 3, 'hiphop': 4, 'jazz': 5, 'metal': 6, 'pop': 7, 'reggae': 8, 'rock': 9}\n",
    "\n",
    "import pandas as pd\n",
    "\n",
    "# Inicializa o DataFrame\n",
    "df = pd.DataFrame(columns=['audio_data', 'label', 'filename'])\n",
    "\n",
    "for folder in os.listdir(genre_directory):\n",
    "    print('Processing folder {0}'.format(folder))\n",
    "    for files in tqdm.tqdm(os.listdir(os.path.join(genre_directory, folder))):\n",
    "        try:\n",
    "            features_df = extract_feature_means(os.path.join(genre_directory, folder, files))\n",
    "            # Include the audio file name in the DataFrame\n",
    "            features_df['filename'] = files\n",
    "            features_df['label'] = folder\n",
    "            df = pd.concat([df, features_df], ignore_index=True)\n",
    "        except Exception as e:\n",
    "            continue\n",
    "            #print(f\"Error processing {files}: {e}\")\n",
    "print('Done!')"
   ]
  },
  {
   "cell_type": "code",
   "execution_count": 4,
   "metadata": {},
   "outputs": [],
   "source": [
    "df = df.drop(columns=['audio_data', 'file_name'])"
   ]
  },
  {
   "cell_type": "code",
   "execution_count": 5,
   "metadata": {},
   "outputs": [],
   "source": [
    "df.to_csv('audio_data_genre.csv', index=False)"
   ]
  },
  {
   "cell_type": "markdown",
   "metadata": {},
   "source": [
    "## PREPROCESSING"
   ]
  },
  {
   "cell_type": "code",
   "execution_count": 21,
   "metadata": {},
   "outputs": [],
   "source": [
    "label_encoder = preprocessing.LabelEncoder() \n",
    "df['label'] = label_encoder.fit_transform(df['label'])"
   ]
  },
  {
   "cell_type": "code",
   "execution_count": 24,
   "metadata": {},
   "outputs": [],
   "source": [
    "X = df.drop(['label','filename'],axis=1) \n",
    "y = df['label']"
   ]
  },
  {
   "cell_type": "code",
   "execution_count": 26,
   "metadata": {},
   "outputs": [],
   "source": [
    "cols = X.columns \n",
    "minmax = preprocessing.MinMaxScaler() \n",
    "np_scaled = minmax.fit_transform(X) \n",
    "\n",
    "# new data frame with the new scaled data. \n",
    "X = pd.DataFrame(np_scaled, columns = cols)"
   ]
  },
  {
   "cell_type": "code",
   "execution_count": 27,
   "metadata": {},
   "outputs": [
    {
     "data": {
      "text/plain": [
       "((699, 66), (300, 66), (699,), (300,))"
      ]
     },
     "execution_count": 27,
     "metadata": {},
     "output_type": "execute_result"
    }
   ],
   "source": [
    "X_train, X_test, y_train, y_test = train_test_split(X, y, \n",
    "\t\t\t\t\t\t\t\t\t\t\t\t\ttest_size=0.3, \n",
    "\t\t\t\t\t\t\t\t\t\t\t\t\trandom_state=111) \n",
    "X_train.shape, X_test.shape, y_train.shape, y_test.shape\n"
   ]
  },
  {
   "cell_type": "code",
   "execution_count": 28,
   "metadata": {},
   "outputs": [],
   "source": [
    "def plot_confusion_matrix(y_test, preds, clf):\n",
    "    cm = confusion_matrix(y_test, preds)\n",
    "    plt.figure(figsize=(10,7))\n",
    "    sns.heatmap(cm, annot=True, fmt='d')\n",
    "    plt.title('Confusion Matrix for ' + clf.__class__.__name__)\n",
    "    plt.xlabel('Predicted')\n",
    "    plt.ylabel('True')\n",
    "    plt.show()"
   ]
  },
  {
   "cell_type": "markdown",
   "metadata": {},
   "source": [
    "## CLASSIFICATION"
   ]
  },
  {
   "cell_type": "code",
   "execution_count": 29,
   "metadata": {},
   "outputs": [
    {
     "name": "stdout",
     "output_type": "stream",
     "text": [
      "RandomForestClassifier 0.6666666666666666\n",
      "CatBoostClassifier 0.71\n",
      "XGBClassifier 0.7166666666666667\n"
     ]
    }
   ],
   "source": [
    "classifier_list = []\n",
    "\n",
    "classifier_list.append(RandomForestClassifier(n_estimators=1000, max_depth=10, random_state=0))\n",
    "classifier_list.append(cb.CatBoostClassifier(verbose=0, eval_metric='Accuracy', loss_function='MultiClass'))\n",
    "classifier_list.append(XGBClassifier(n_estimators=1000, learning_rate=0.05))\n",
    "\n",
    "for clf in classifier_list: \n",
    "\tclf.fit(X_train, y_train) \n",
    "\tpreds = clf.predict(X_test) \n",
    "\tprint(clf.__class__.__name__,accuracy_score(y_test, preds))"
   ]
  },
  {
   "cell_type": "code",
   "execution_count": 40,
   "metadata": {},
   "outputs": [],
   "source": [
    "t1 = extract_feature_means('./predict/test.wav').drop(columns=['file_name'])"
   ]
  },
  {
   "cell_type": "code",
   "execution_count": 38,
   "metadata": {},
   "outputs": [
    {
     "name": "stdout",
     "output_type": "stream",
     "text": [
      "<class 'pandas.core.frame.DataFrame'>\n",
      "Int64Index: 1 entries, 0 to 0\n",
      "Data columns (total 66 columns):\n",
      " #   Column                         Non-Null Count  Dtype  \n",
      "---  ------                         --------------  -----  \n",
      " 0   zero_crossing_rate             1 non-null      float64\n",
      " 1   zero_crossings                 1 non-null      int32  \n",
      " 2   spectrogram                    1 non-null      float32\n",
      " 3   mel_spectrogram                1 non-null      float32\n",
      " 4   harmonics                      1 non-null      float32\n",
      " 5   perceptual_shock_wave          1 non-null      float32\n",
      " 6   spectral_centroids             1 non-null      float64\n",
      " 7   spectral_centroids_delta       1 non-null      float64\n",
      " 8   spectral_centroids_accelerate  1 non-null      float64\n",
      " 9   chroma1                        1 non-null      float32\n",
      " 10  chroma2                        1 non-null      float32\n",
      " 11  chroma3                        1 non-null      float32\n",
      " 12  chroma4                        1 non-null      float32\n",
      " 13  chroma5                        1 non-null      float32\n",
      " 14  chroma6                        1 non-null      float32\n",
      " 15  chroma7                        1 non-null      float32\n",
      " 16  chroma8                        1 non-null      float32\n",
      " 17  chroma9                        1 non-null      float32\n",
      " 18  chroma10                       1 non-null      float32\n",
      " 19  chroma11                       1 non-null      float32\n",
      " 20  chroma12                       1 non-null      float32\n",
      " 21  tempo_bpm                      1 non-null      float64\n",
      " 22  spectral_rolloff               1 non-null      float64\n",
      " 23  spectral_flux                  1 non-null      float32\n",
      " 24  spectral_bandwidth_2           1 non-null      float64\n",
      " 25  spectral_bandwidth_3           1 non-null      float64\n",
      " 26  spectral_bandwidth_4           1 non-null      float64\n",
      " 27  mfcc0                          1 non-null      float32\n",
      " 28  mfcc_delta_0                   1 non-null      float32\n",
      " 29  mfcc_accelerate_0              1 non-null      float32\n",
      " 30  mfcc1                          1 non-null      float32\n",
      " 31  mfcc_delta_1                   1 non-null      float32\n",
      " 32  mfcc_accelerate_1              1 non-null      float32\n",
      " 33  mfcc2                          1 non-null      float32\n",
      " 34  mfcc_delta_2                   1 non-null      float32\n",
      " 35  mfcc_accelerate_2              1 non-null      float32\n",
      " 36  mfcc3                          1 non-null      float32\n",
      " 37  mfcc_delta_3                   1 non-null      float32\n",
      " 38  mfcc_accelerate_3              1 non-null      float32\n",
      " 39  mfcc4                          1 non-null      float32\n",
      " 40  mfcc_delta_4                   1 non-null      float32\n",
      " 41  mfcc_accelerate_4              1 non-null      float32\n",
      " 42  mfcc5                          1 non-null      float32\n",
      " 43  mfcc_delta_5                   1 non-null      float32\n",
      " 44  mfcc_accelerate_5              1 non-null      float32\n",
      " 45  mfcc6                          1 non-null      float32\n",
      " 46  mfcc_delta_6                   1 non-null      float32\n",
      " 47  mfcc_accelerate_6              1 non-null      float32\n",
      " 48  mfcc7                          1 non-null      float32\n",
      " 49  mfcc_delta_7                   1 non-null      float32\n",
      " 50  mfcc_accelerate_7              1 non-null      float32\n",
      " 51  mfcc8                          1 non-null      float32\n",
      " 52  mfcc_delta_8                   1 non-null      float32\n",
      " 53  mfcc_accelerate_8              1 non-null      float32\n",
      " 54  mfcc9                          1 non-null      float32\n",
      " 55  mfcc_delta_9                   1 non-null      float32\n",
      " 56  mfcc_accelerate_9              1 non-null      float32\n",
      " 57  mfcc10                         1 non-null      float32\n",
      " 58  mfcc_delta_10                  1 non-null      float32\n",
      " 59  mfcc_accelerate_10             1 non-null      float32\n",
      " 60  mfcc11                         1 non-null      float32\n",
      " 61  mfcc_delta_11                  1 non-null      float32\n",
      " 62  mfcc_accelerate_11             1 non-null      float32\n",
      " 63  mfcc12                         1 non-null      float32\n",
      " 64  mfcc_delta_12                  1 non-null      float32\n",
      " 65  mfcc_accelerate_12             1 non-null      float32\n",
      "dtypes: float32(56), float64(9), int32(1)\n",
      "memory usage: 308.0 bytes\n"
     ]
    }
   ],
   "source": [
    "t1.info()"
   ]
  },
  {
   "cell_type": "code",
   "execution_count": 39,
   "metadata": {},
   "outputs": [
    {
     "data": {
      "text/plain": [
       "array([8], dtype=int64)"
      ]
     },
     "execution_count": 39,
     "metadata": {},
     "output_type": "execute_result"
    }
   ],
   "source": [
    "classifier_list[2].predict(t1)"
   ]
  },
  {
   "cell_type": "code",
   "execution_count": null,
   "metadata": {},
   "outputs": [],
   "source": []
  }
 ],
 "metadata": {
  "kernelspec": {
   "display_name": "felipe_cd",
   "language": "python",
   "name": "python3"
  },
  "language_info": {
   "codemirror_mode": {
    "name": "ipython",
    "version": 3
   },
   "file_extension": ".py",
   "mimetype": "text/x-python",
   "name": "python",
   "nbconvert_exporter": "python",
   "pygments_lexer": "ipython3",
   "version": "3.10.14"
  }
 },
 "nbformat": 4,
 "nbformat_minor": 2
}
