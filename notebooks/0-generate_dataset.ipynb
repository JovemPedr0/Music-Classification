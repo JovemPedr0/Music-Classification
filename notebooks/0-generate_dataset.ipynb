{
 "cells": [
  {
   "cell_type": "code",
   "execution_count": 1,
   "metadata": {},
   "outputs": [],
   "source": [
    "import os\n",
    "import tqdm\n",
    "import numpy as np \n",
    "import pandas as pd \n",
    "import matplotlib.pyplot as plt \n",
    "import librosa.display\n",
    "import seaborn as sns \n",
    "import catboost as cb \n",
    "\n",
    "from utils.feature_extraction import *"
   ]
  },
  {
   "cell_type": "markdown",
   "metadata": {},
   "source": [
    "## ADQUIRE DATASET"
   ]
  },
  {
   "cell_type": "code",
   "execution_count": null,
   "metadata": {},
   "outputs": [],
   "source": [
    "genre_directory = './data/genres_original'\n",
    "genre_label = {}\n",
    "label_value = 0"
   ]
  },
  {
   "cell_type": "code",
   "execution_count": null,
   "metadata": {},
   "outputs": [],
   "source": [
    "for folder in os.listdir(genre_directory):\n",
    "\tgenre_label[folder] = label_value\n",
    "\tlabel_value += 1\n",
    "\n",
    "genre_label = {'blues': 0, 'classical': 1, 'country': 2, 'disco': 3, 'hiphop': 4, 'jazz': 5, 'metal': 6, 'pop': 7, 'reggae': 8, 'rock': 9}\n",
    "\n",
    "import pandas as pd\n",
    "\n",
    "# Inicializa o DataFrame\n",
    "df = pd.DataFrame(columns=['audio_data', 'label', 'filename'])\n",
    "\n",
    "for folder in os.listdir(genre_directory):\n",
    "    print('Processing folder {0}'.format(folder))\n",
    "    for files in tqdm.tqdm(os.listdir(os.path.join(genre_directory, folder))):\n",
    "        try:\n",
    "            features_df = extract_feature_means(os.path.join(genre_directory, folder, files))\n",
    "            # Include the audio file name in the DataFrame\n",
    "            features_df['filename'] = files\n",
    "            features_df['label'] = folder\n",
    "            df = pd.concat([df, features_df], ignore_index=True)\n",
    "        except Exception as e:\n",
    "            continue\n",
    "            #print(f\"Error processing {files}: {e}\")\n",
    "print('Done!')"
   ]
  },
  {
   "cell_type": "code",
   "execution_count": null,
   "metadata": {},
   "outputs": [],
   "source": [
    "df = df.drop(columns=['audio_data', 'file_name'])"
   ]
  },
  {
   "cell_type": "code",
   "execution_count": null,
   "metadata": {},
   "outputs": [],
   "source": [
    "df.to_csv('audio_data_genre.csv', index=False)"
   ]
  }
 ],
 "metadata": {
  "kernelspec": {
   "display_name": "felipe_cd",
   "language": "python",
   "name": "python3"
  },
  "language_info": {
   "codemirror_mode": {
    "name": "ipython",
    "version": 3
   },
   "file_extension": ".py",
   "mimetype": "text/x-python",
   "name": "python",
   "nbconvert_exporter": "python",
   "pygments_lexer": "ipython3",
   "version": "3.10.14"
  }
 },
 "nbformat": 4,
 "nbformat_minor": 2
}
