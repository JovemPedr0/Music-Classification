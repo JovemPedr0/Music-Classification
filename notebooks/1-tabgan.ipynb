{
 "cells": [
  {
   "cell_type": "code",
   "execution_count": 1,
   "metadata": {},
   "outputs": [],
   "source": [
    "import pandas as pd\n",
    "import numpy as np\n",
    "\n",
    "from tensorflow.keras.models import Sequential\n",
    "from tensorflow.keras.layers import Dense, Activation\n",
    "from tensorflow.keras.callbacks import EarlyStopping\n",
    "from sklearn.model_selection import train_test_split\n",
    "from sklearn import metrics\n",
    "from sklearn import preprocessing "
   ]
  },
  {
   "cell_type": "code",
   "execution_count": 3,
   "metadata": {},
   "outputs": [],
   "source": [
    "raw_data = pd.read_csv('../data/audio_data_genre.csv').drop(columns=['filename'])"
   ]
  },
  {
   "cell_type": "code",
   "execution_count": null,
   "metadata": {},
   "outputs": [],
   "source": [
    "print(raw_data['label'].unique())"
   ]
  },
  {
   "cell_type": "code",
   "execution_count": null,
   "metadata": {},
   "outputs": [],
   "source": [
    "COLS_USED = raw_data.columns.to_list()\n",
    "COLS_TRAIN = [col for col in COLS_USED if col != 'label']"
   ]
  },
  {
   "cell_type": "code",
   "execution_count": null,
   "metadata": {},
   "outputs": [],
   "source": [
    "data = {\n",
    "    'label': ['blues', 'classical','country','disco','hiphop','jazz','metal','pop',\n",
    " 'reggae','rock']\n",
    "}\n",
    "raw_data = pd.DataFrame(data)\n",
    "\n",
    "print(\"Before transformation:\")\n",
    "print(raw_data.head())\n",
    "\n",
    "label_encoder = preprocessing.LabelEncoder()\n",
    "raw_data['label_encoded'] = label_encoder.fit_transform(raw_data['label'])\n",
    "\n",
    "label_mapping = dict(zip(label_encoder.classes_, label_encoder.transform(label_encoder.classes_)))\n",
    "\n",
    "print(\"\\nAfter transformation:\")\n",
    "print(raw_data.head())\n",
    "\n",
    "print(\"\\nLabel mapping:\")\n",
    "for original_label, encoded_label in label_mapping.items():\n",
    "    print(f\"{encoded_label}: {original_label}\")"
   ]
  },
  {
   "cell_type": "code",
   "execution_count": null,
   "metadata": {},
   "outputs": [],
   "source": [
    "print(raw_data['label'].unique())"
   ]
  },
  {
   "cell_type": "code",
   "execution_count": null,
   "metadata": {},
   "outputs": [],
   "source": [
    "raw_data = raw_data[COLS_USED]\n",
    "\n",
    "df_x_train, df_x_test, df_y_train, df_y_test = train_test_split(\n",
    "    raw_data.drop(\"label\", axis=1),\n",
    "    raw_data[\"label\"],\n",
    "    test_size=0.20,\n",
    "    random_state=42,\n",
    ")\n",
    "\n",
    "df_x_test, df_y_test = df_x_test.reset_index(drop=True), \\\n",
    "  df_y_test.reset_index(drop=True)\n",
    "df_y_train = pd.DataFrame(df_y_train)\n",
    "df_y_test = pd.DataFrame(df_y_test)\n",
    "\n",
    "x_train = df_x_train.values\n",
    "x_test = df_x_test.values\n",
    "y_train = df_y_train.values\n",
    "y_test = df_y_test.values"
   ]
  },
  {
   "cell_type": "code",
   "execution_count": null,
   "metadata": {},
   "outputs": [],
   "source": [
    "model = Sequential()\n",
    "\n",
    "model.add(Dense(50, input_dim=x_train.shape[1], activation='relu')) \n",
    "model.add(Dense(25, activation='relu')) \n",
    "model.add(Dense(12, activation='relu')) \n",
    "model.add(Dense(1)) \n",
    "model.compile(loss='mean_squared_error', optimizer='adam')\n",
    "\n",
    "monitor = EarlyStopping(monitor='val_loss', min_delta=1e-3, \n",
    "        patience=5, verbose=1, mode='auto',\n",
    "        restore_best_weights=True)\n",
    "model.fit(x_train,y_train,validation_data=(x_test,y_test),\n",
    "        callbacks=[monitor], verbose=2,epochs=1000)"
   ]
  },
  {
   "cell_type": "code",
   "execution_count": 8,
   "metadata": {},
   "outputs": [
    {
     "name": "stdout",
     "output_type": "stream",
     "text": [
      "Final score (RMSE): 6.008439590991187\n"
     ]
    }
   ],
   "source": [
    "pred = model.predict(x_test)\n",
    "score = np.sqrt(metrics.mean_squared_error(pred,y_test))\n",
    "print(\"Final score (RMSE): {}\".format(score))"
   ]
  },
  {
   "cell_type": "code",
   "execution_count": null,
   "metadata": {},
   "outputs": [],
   "source": [
    "from tabgan.sampler import GANGenerator\n",
    "\n",
    "gen_x, gen_y = GANGenerator(gen_x_times=1.1, cat_cols=None,\n",
    "           bot_filter_quantile=0.001, top_filter_quantile=0.999,\n",
    "              is_post_process=True,\n",
    "           adversarial_model_params={\n",
    "               \"metrics\": \"rmse\", \"max_depth\": 2, \"max_bin\": 100, \n",
    "               \"learning_rate\": 0.02, \"random_state\":\n",
    "                42, \"n_estimators\": 500,\n",
    "           }, pregeneration_frac=2, only_generated_data=False\n",
    "          ).generate_data_pipe(df_x_train, df_y_train,\n",
    "          df_x_test, deep_copy=True, only_adversarial=False, \n",
    "          use_adversarial=True)"
   ]
  },
  {
   "cell_type": "code",
   "execution_count": null,
   "metadata": {},
   "outputs": [],
   "source": [
    "pred = model.predict(gen_x.values)\n",
    "score = np.sqrt(metrics.mean_squared_error(pred,gen_y.values))\n",
    "print(\"Final score (RMSE): {}\".format(score))"
   ]
  },
  {
   "cell_type": "code",
   "execution_count": null,
   "metadata": {},
   "outputs": [],
   "source": [
    "data_augmented = pd.concat([raw_data, gen_x])"
   ]
  },
  {
   "cell_type": "code",
   "execution_count": null,
   "metadata": {},
   "outputs": [],
   "source": [
    "data_augmented.shape"
   ]
  },
  {
   "cell_type": "code",
   "execution_count": null,
   "metadata": {},
   "outputs": [],
   "source": [
    "data_augmented.to_csv('./data/audio_data_genre_augmented.csv', index=False)"
   ]
  }
 ],
 "metadata": {
  "kernelspec": {
   "display_name": "felipe_cd",
   "language": "python",
   "name": "python3"
  },
  "language_info": {
   "codemirror_mode": {
    "name": "ipython",
    "version": 3
   },
   "file_extension": ".py",
   "mimetype": "text/x-python",
   "name": "python",
   "nbconvert_exporter": "python",
   "pygments_lexer": "ipython3",
   "version": "3.10.14"
  }
 },
 "nbformat": 4,
 "nbformat_minor": 2
}
