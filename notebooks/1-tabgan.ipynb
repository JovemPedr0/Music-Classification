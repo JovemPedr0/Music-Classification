{
 "cells": [
  {
   "cell_type": "code",
   "execution_count": null,
   "metadata": {},
   "outputs": [],
   "source": [
    "import pandas as pd\n",
    "import numpy as np\n",
    "\n",
    "from tensorflow.keras.models import Sequential\n",
    "from tensorflow.keras.layers import Dense, Activation\n",
    "from tensorflow.keras.callbacks import EarlyStopping\n",
    "from sklearn.model_selection import train_test_split\n",
    "from sklearn import metrics\n",
    "from sklearn import preprocessing \n",
    "from sklearn.impute import SimpleImputer\n",
    "from keras.models import Sequential\n",
    "from keras.layers import Dense, Input\n",
    "from keras.callbacks import EarlyStopping\n",
    "\n",
    "from tabgan.sampler import GANGenerator, LLMGenerator"
   ]
  },
  {
   "cell_type": "code",
   "execution_count": null,
   "metadata": {},
   "outputs": [],
   "source": [
    "raw_data = pd.read_csv('../data/new_features.csv')"
   ]
  },
  {
   "cell_type": "code",
   "execution_count": null,
   "metadata": {},
   "outputs": [],
   "source": [
    "mean = lambda lst: sum(lst) / len(lst) if lst else float('nan')"
   ]
  },
  {
   "cell_type": "code",
   "execution_count": null,
   "metadata": {},
   "outputs": [],
   "source": [
    "raw_data['tempogram'] = raw_data['tempogram'].apply(lambda x: eval(x))\n",
    "raw_data['poly_features'] = raw_data['poly_features'].apply(lambda x: eval(x))\n",
    "raw_data['tonnetz'] = raw_data['tonnetz'].apply(lambda x: eval(x))\n",
    "\n",
    "raw_data['tempogram'] = raw_data['tempogram'].apply(mean)\n",
    "raw_data['poly_features'] = raw_data['poly_features'].apply(mean)\n",
    "raw_data['tonnetz'] = raw_data['tonnetz'].apply(mean)"
   ]
  },
  {
   "cell_type": "code",
   "execution_count": null,
   "metadata": {},
   "outputs": [],
   "source": [
    "print(raw_data['label'].unique())"
   ]
  },
  {
   "cell_type": "code",
   "execution_count": null,
   "metadata": {},
   "outputs": [],
   "source": [
    "raw_data.head()"
   ]
  },
  {
   "cell_type": "code",
   "execution_count": null,
   "metadata": {},
   "outputs": [],
   "source": [
    "COLS_USED = raw_data.columns.to_list()\n",
    "COLS_TRAIN = [col for col in COLS_USED if col != 'label']"
   ]
  },
  {
   "cell_type": "code",
   "execution_count": null,
   "metadata": {},
   "outputs": [],
   "source": [
    "label_encoder = preprocessing.LabelEncoder()\n",
    "raw_data['label'] = label_encoder.fit_transform(raw_data['label'])"
   ]
  },
  {
   "cell_type": "code",
   "execution_count": null,
   "metadata": {},
   "outputs": [],
   "source": [
    "print(raw_data['label'].unique())"
   ]
  },
  {
   "cell_type": "code",
   "execution_count": null,
   "metadata": {},
   "outputs": [],
   "source": [
    "raw_data['poly_features'] = pd.to_numeric(raw_data['poly_features'], errors='coerce')\n",
    "raw_data['tonnetz'] = pd.to_numeric(raw_data['tonnetz'], errors='coerce')\n",
    "raw_data['tempogram'] = pd.to_numeric(raw_data['tempogram'], errors='coerce')\n",
    "\n",
    "raw_data['poly_features'] = np.mean(raw_data['poly_features'])\n",
    "raw_data['tonnetz'] = np.mean(raw_data['tonnetz'])\n",
    "raw_data['tempogram'] = np.mean(raw_data['tempogram'])"
   ]
  },
  {
   "cell_type": "code",
   "execution_count": null,
   "metadata": {},
   "outputs": [],
   "source": [
    "raw_data = raw_data[COLS_USED]\n",
    "\n",
    "df_x_train, df_x_test, df_y_train, df_y_test = train_test_split(\n",
    "    raw_data.drop(\"label\", axis=1),\n",
    "    raw_data[\"label\"],\n",
    "    test_size=0.20,\n",
    "    random_state=42,\n",
    ")\n",
    "\n",
    "df_x_test, df_y_test = df_x_test.reset_index(drop=True), \\\n",
    "  df_y_test.reset_index(drop=True)\n",
    "df_y_train = pd.DataFrame(df_y_train)\n",
    "df_y_test = pd.DataFrame(df_y_test)\n",
    "\n",
    "x_train = df_x_train.values\n",
    "y_train = df_y_train.values\n",
    "x_test = df_x_test.values\n",
    "y_test = df_y_test.values"
   ]
  },
  {
   "cell_type": "code",
   "execution_count": null,
   "metadata": {},
   "outputs": [],
   "source": [
    "model = Sequential()\n",
    "model.add(Input(shape=(x_train.shape[1],)))  # Use Input layer instead of input_dim\n",
    "model.add(Dense(50, activation='relu'))\n",
    "model.add(Dense(25, activation='relu'))\n",
    "model.add(Dense(12, activation='relu'))\n",
    "model.add(Dense(1))\n",
    "model.compile(loss='mean_squared_error', optimizer='adam')\n",
    "\n",
    "monitor = EarlyStopping(monitor='val_loss', min_delta=1e-3, \n",
    "        patience=5, verbose=1, mode='auto',\n",
    "        restore_best_weights=True)\n",
    "model.fit(x_train, y_train, validation_data=(x_test, y_test),\n",
    "          callbacks=[monitor], verbose=2, epochs=1000, batch_size=50)"
   ]
  },
  {
   "cell_type": "code",
   "execution_count": null,
   "metadata": {},
   "outputs": [],
   "source": [
    "pred = model.predict(x_test)\n",
    "score = np.sqrt(metrics.mean_squared_error(pred,y_test))\n",
    "print(\"Final score (RMSE): {}\".format(score))"
   ]
  },
  {
   "cell_type": "code",
   "execution_count": null,
   "metadata": {},
   "outputs": [],
   "source": [
    "gen_x, gen_y = GANGenerator(\n",
    "    gen_x_times=11.0,  # Aumentar o número de vezes que os dados são gerados\n",
    "    cat_cols=None,\n",
    "    bot_filter_quantile=0.00000001, top_filter_quantile=0.99999999,\n",
    "    is_post_process=True,\n",
    "    adversarial_model_params={\n",
    "        \"metrics\": \"rmse\", \"max_depth\": 6, \"max_bin\": 400,  # Ajustar profundidade e bins\n",
    "        \"learning_rate\": 0.001, \"random_state\": 42, \"n_estimators\": 1000, \"verbosity\":-1  # Ajustar taxa de aprendizado e número de estimadores\n",
    "    },\n",
    "    pregeneration_frac=2,  # Aumentar a fração de pré-geração\n",
    "    only_generated_data=False\n",
    ").generate_data_pipe(\n",
    "    df_x_train, df_y_train,\n",
    "    df_x_test, deep_copy=True, only_adversarial=False, \n",
    "    use_adversarial=True\n",
    ")"
   ]
  },
  {
   "cell_type": "code",
   "execution_count": null,
   "metadata": {},
   "outputs": [],
   "source": [
    "pred = model.predict(gen_x.values)\n",
    "score = np.sqrt(metrics.mean_squared_error(pred,gen_y.values))\n",
    "print(\"Final score (RMSE): {}\".format(score))"
   ]
  },
  {
   "cell_type": "code",
   "execution_count": null,
   "metadata": {},
   "outputs": [],
   "source": [
    "gen_x.shape"
   ]
  },
  {
   "cell_type": "code",
   "execution_count": null,
   "metadata": {},
   "outputs": [],
   "source": [
    "gen_x"
   ]
  },
  {
   "cell_type": "code",
   "execution_count": null,
   "metadata": {},
   "outputs": [],
   "source": [
    "data_augmented = pd.concat([raw_data, gen_x])"
   ]
  },
  {
   "cell_type": "code",
   "execution_count": null,
   "metadata": {},
   "outputs": [],
   "source": [
    "data_augmented.shape"
   ]
  },
  {
   "cell_type": "code",
   "execution_count": null,
   "metadata": {},
   "outputs": [],
   "source": [
    "data_augmented.duplicated().sum()"
   ]
  },
  {
   "cell_type": "code",
   "execution_count": null,
   "metadata": {},
   "outputs": [],
   "source": [
    "data_augmented.to_csv('../data/new_audio_data_genre_augmented.csv', index=False)"
   ]
  }
 ],
 "metadata": {
  "kernelspec": {
   "display_name": "felipe_cd",
   "language": "python",
   "name": "python3"
  },
  "language_info": {
   "codemirror_mode": {
    "name": "ipython",
    "version": 3
   },
   "file_extension": ".py",
   "mimetype": "text/x-python",
   "name": "python",
   "nbconvert_exporter": "python",
   "pygments_lexer": "ipython3",
   "version": "3.10.14"
  }
 },
 "nbformat": 4,
 "nbformat_minor": 2
}
